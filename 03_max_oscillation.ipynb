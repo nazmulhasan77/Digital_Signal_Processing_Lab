{
 "cells": [
  {
   "cell_type": "markdown",
   "id": "63c3c610",
   "metadata": {},
   "source": [
    "To show that the highest rate of oscillation in a **discrete-time sinusoid** occurs when <math xmlns=\"http://www.w3.org/1998/Math/MathML\"><semantics><mrow><mi>ω</mi><mo>=</mo><mi>π</mi></mrow><annotation encoding=\"application/x-tex\">\\omega = \\pi</annotation></semantics></math>ω=π, let's analyze the behavior of the signal:\n",
    "\n",
    "* * *\n",
    "\n",
    "### Discrete-Time Sinusoid\n",
    "\n",
    "A general discrete-time sinusoidal signal is given by:\n",
    "<math xmlns=\"http://www.w3.org/1998/Math/MathML\" display=\"block\"><semantics><mrow><mi>x</mi><mo stretchy=\"false\">[</mo><mi>n</mi><mo stretchy=\"false\">]</mo><mo>=</mo><mi>cos</mi><mo>⁡</mo><mo stretchy=\"false\">(</mo><mi>ω</mi><mi>n</mi><mo>+</mo><mi>ϕ</mi><mo stretchy=\"false\">)</mo></mrow><annotation encoding=\"application/x-tex\">x[n] = \\cos(\\omega n + \\phi)</annotation></semantics></math>\n",
    "\n",
    "- <math xmlns=\"http://www.w3.org/1998/Math/MathML\"><semantics><mrow><mi>ω</mi></mrow><annotation encoding=\"application/x-tex\">\\omega</annotation></semantics></math> is the angular frequency (in radians/sample),\n",
    "- <math xmlns=\"http://www.w3.org/1998/Math/MathML\"><semantics><mrow><mi>ϕ</mi></mrow><annotation encoding=\"application/x-tex\">\\phi</annotation></semantics></math> is the phase shift,\n",
    "- <math xmlns=\"http://www.w3.org/1998/Math/MathML\"><semantics><mrow><mi>n</mi></mrow><annotation encoding=\"application/x-tex\">n</annotation></semantics></math> is the discrete time index.\n",
    "\n",
    "* * *\n",
    "\n",
    "### Key Observations\n",
    "\n",
    "1. **Periodicity in Discrete Time:**In discrete time, sinusoids are **periodic only if** <math xmlns=\"http://www.w3.org/1998/Math/MathML\"><semantics><mrow><mi>ω</mi><mi mathvariant=\"normal\">/</mi><mn>2</mn><mi>π</mi></mrow><annotation encoding=\"application/x-tex\">\\omega/2\\pi</annotation></semantics></math>is a rational number. However, we are focused on the **rate of oscillation**, not necessarily periodicity.\n",
    "2. **Rate of Oscillation:**The **rate of oscillation** refers to how frequently the signal alternates between values — especially how rapidly it changes direction (peaks and zero crossings).\n",
    "3. **Highest Frequency Before Aliasing:**Because discrete-time signals are sampled, frequencies are **periodic with period <math xmlns=\"http://www.w3.org/1998/Math/MathML\"><semantics><mrow><mn>2</mn><mi>π</mi></mrow><annotation encoding=\"application/x-tex\">2\\pi</annotation></semantics></math>2π**. The **Nyquist frequency** (the maximum unique frequency) is:\n",
    "<math xmlns=\"http://www.w3.org/1998/Math/MathML\" display=\"block\"><semantics><mrow><mi>ω</mi><mo>=</mo><mi>π</mi><mspace width=\"1em\"></mspace><mtext>(radians/sample)</mtext></mrow><annotation encoding=\"application/x-tex\"></annotation></semantics></math>ω=π(radians/sample)\n",
    "    This is the **highest frequency** that can be represented without aliasing.\n",
    "\n",
    "* * *\n",
    "\n",
    "### Specific Case: <math xmlns=\"http://www.w3.org/1998/Math/MathML\"><semantics><mrow><mi>ω</mi><mo>=</mo><mi>π</mi></mrow><annotation encoding=\"application/x-tex\">\\omega = \\pi</annotation></semantics></math>ω=π\n",
    "<math xmlns=\"http://www.w3.org/1998/Math/MathML\" display=\"block\"><semantics><mrow><mi>x</mi><mo stretchy=\"false\">[</mo><mi>n</mi><mo stretchy=\"false\">]</mo><mo>=</mo><mi>cos</mi><mo>⁡</mo><mo stretchy=\"false\">(</mo><mi>π</mi><mi>n</mi><mo stretchy=\"false\">)</mo><mo>=</mo><mo stretchy=\"false\">(</mo><mo>−</mo><mn>1</mn><msup><mo stretchy=\"false\">)</mo><mi>n</mi></msup></mrow><annotation encoding=\"application/x-tex\">x[n] = \\cos(\\pi n) = (-1)^n</annotation></semantics></math>x[n]=cos(πn)=(−1)n\n",
    "This signal alternates between 1 and -1 at **every time step**:\n",
    "<math xmlns=\"http://www.w3.org/1998/Math/MathML\" display=\"block\"><semantics><mrow><mi>x</mi><mo stretchy=\"false\">[</mo><mn>0</mn><mo stretchy=\"false\">]</mo><mo>=</mo><mn>1</mn><mo separator=\"true\">,</mo><mspace width=\"1em\"></mspace><mi>x</mi><mo stretchy=\"false\">[</mo><mn>1</mn><mo stretchy=\"false\">]</mo><mo>=</mo><mo>−</mo><mn>1</mn><mo separator=\"true\">,</mo><mspace width=\"1em\"></mspace><mi>x</mi><mo stretchy=\"false\">[</mo><mn>2</mn><mo stretchy=\"false\">]</mo><mo>=</mo><mn>1</mn><mo separator=\"true\">,</mo><mspace width=\"1em\"></mspace><mi>x</mi><mo stretchy=\"false\">[</mo><mn>3</mn><mo stretchy=\"false\">]</mo><mo>=</mo><mo>−</mo><mn>1</mn><mo separator=\"true\">,</mo><mo>…</mo></mrow><annotation encoding=\"application/x-tex\">x[0] = 1, \\quad x[1] = -1, \\quad x[2] = 1, \\quad x[3] = -1, \\dots</annotation></semantics></math>x[0]=1,x[1]=−1,x[2]=1,x[3]=−1,…\n",
    "This is the **fastest possible alternation** in discrete time — the signal flips sign at **every** sample. No other sinusoidal signal can oscillate faster than that, because a higher frequency would be **indistinguishable (aliased)** due to discrete-time sampling limits.\n",
    "\n",
    "* * *\n",
    "\n",
    "### Conclusion\n",
    "\n",
    "The **highest rate of oscillation** in a discrete-time sinusoid occurs at:\n",
    "<math xmlns=\"http://www.w3.org/1998/Math/MathML\" display=\"block\"><semantics><mrow><mi>ω</mi><mo>=</mo><mi>π</mi></mrow><annotation encoding=\"application/x-tex\">\\omega = \\pi</annotation></semantics></math>ω=π\n",
    "because this corresponds to the **Nyquist frequency**, resulting in the **maximum number of zero crossings per unit time** — specifically, one zero crossing **every other sample**, with sign flipping at each sample."
   ]
  },
  {
   "cell_type": "code",
   "execution_count": null,
   "id": "c192441d",
   "metadata": {
    "vscode": {
     "languageId": "plaintext"
    }
   },
   "outputs": [],
   "source": []
  }
 ],
 "metadata": {
  "language_info": {
   "name": "python"
  }
 },
 "nbformat": 4,
 "nbformat_minor": 5
}
