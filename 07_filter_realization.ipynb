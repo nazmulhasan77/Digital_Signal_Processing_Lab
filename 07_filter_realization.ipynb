{
 "cells": [
  {
   "cell_type": "markdown",
   "id": "22aeb68b",
   "metadata": {},
   "source": [
    "To realize a **filter** using **6-point averaging** and **6-point differencing**, you need to implement their respective **difference equations**. Here’s how both filters are defined and realized in practice:\n",
    "\n",
    "---\n",
    "\n",
    "### 🔹 1. **6-Point Averaging Filter**\n",
    "\n",
    "This is a **moving average filter** that smooths the signal by averaging 6 consecutive samples.\n",
    "\n",
    "#### Difference Equation:\n",
    "\n",
    "$$\n",
    "y[n] = \\frac{1}{6} \\left( x[n] + x[n-1] + x[n-2] + x[n-3] + x[n-4] + x[n-5] \\right)\n",
    "$$\n",
    "\n",
    "#### Realization Steps:\n",
    "\n",
    "* Store the current and 5 previous input samples.\n",
    "* Sum them and divide by 6.\n",
    "* Output the result as $y[n]$.\n",
    "\n",
    "This is a **low-pass FIR filter**.\n",
    "\n",
    "---\n",
    "\n",
    "### 🔹 2. **6-Point Differencing Filter**\n",
    "\n",
    "This filter emphasizes changes between consecutive samples and is typically used for edge detection or high-pass filtering.\n",
    "\n",
    "#### Difference Equation (Simple 1st-order):\n",
    "\n",
    "A 6-point central difference version may be approximated as:\n",
    "\n",
    "$$\n",
    "y[n] = \\frac{1}{6} \\left( x[n+3] - x[n-3] \\right)\n",
    "$$\n",
    "\n",
    "Or a more accurate version (central difference):\n",
    "\n",
    "$$\n",
    "y[n] = \\frac{1}{10} \\left( -x[n-3] - 2x[n-2] - x[n-1] + x[n+1] + 2x[n+2] + x[n+3] \\right)\n",
    "$$\n",
    "\n",
    "> Note: The second equation is better for signal differentiation and avoids bias.\n",
    "\n",
    "#### Realization Steps:\n",
    "\n",
    "* For the second version, store samples from $x[n-3]$ to $x[n+3]$.\n",
    "* Apply weights: $-1, -2, -1, 0, 1, 2, 1$ and scale by $\\frac{1}{10}$.\n",
    "* Output the result.\n",
    "\n",
    "This acts as a **high-pass FIR filter**.\n",
    "\n",
    "---"
   ]
  },
  {
   "cell_type": "code",
   "execution_count": null,
   "id": "0645f4e6",
   "metadata": {
    "vscode": {
     "languageId": "plaintext"
    }
   },
   "outputs": [],
   "source": []
  }
 ],
 "metadata": {
  "language_info": {
   "name": "python"
  }
 },
 "nbformat": 4,
 "nbformat_minor": 5
}
